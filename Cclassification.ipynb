{
 "cells": [
  {
   "cell_type": "markdown",
   "metadata": {},
   "source": [
    "# 화합물 분류\n",
    "\n",
    "- 문제 : 주어진 화합물 샘플을 활성 화합물의 확률을 예측하는 분류기 구현하기\n",
    "- 접근방식 : 비정형 데이터 분석 (구조화되지 않은 텍스트로 예측)\n",
    "- 제출일자 : 22년 7월 26일 - 22년 8월 2일"
   ]
  },
  {
   "cell_type": "markdown",
   "metadata": {},
   "source": [
    "1. 해당 문제에서 최하단에 제시한 힌트 AUCPRC와 AUCROC 수치가 높고 치수가 2048이고 샘플수가 3977개이기에 과적합이 의심되는 상황이다.\n",
    "2. 랜덤포레스트 모델의 경우 일부 파라미터 조정으로 정규화 결과가 변하지 않으므로 최소 튜닝이 가능한 일부 그래프 기반 딥러닝 모델의 경우 평가지표인 두 값이 0.93보다 높고, 로그 손실값이 0.35보다 작을 수 있다는 점을 유의할 것"
   ]
  },
  {
   "cell_type": "markdown",
   "metadata": {},
   "source": [
    "### 관련 단어 정리\n",
    "Compound = 화합물"
   ]
  },
  {
   "cell_type": "code",
   "execution_count": 29,
   "metadata": {},
   "outputs": [],
   "source": [
    "import pandas as pd\n",
    "import numpy as np\n",
    "import matplotlib.pyplot as plt\n",
    "import rdkit.Chem as Chem\n",
    "import rdkit.Chem.AllChem as AllChem"
   ]
  },
  {
   "cell_type": "markdown",
   "metadata": {},
   "source": [
    "## EDA"
   ]
  },
  {
   "cell_type": "markdown",
   "metadata": {},
   "source": [
    "### rdkit\n",
    "화학물질의 정보를 담고 있는 데이터를 이용해서 화학물질의 구조식을 만들어내는 툴\n",
    "- cheminfomatics toolkit"
   ]
  },
  {
   "cell_type": "code",
   "execution_count": 30,
   "metadata": {},
   "outputs": [],
   "source": [
    "df = pd.read_csv('cmpd.csv')"
   ]
  },
  {
   "cell_type": "code",
   "execution_count": 31,
   "metadata": {},
   "outputs": [
    {
     "data": {
      "text/html": [
       "<div>\n",
       "<style scoped>\n",
       "    .dataframe tbody tr th:only-of-type {\n",
       "        vertical-align: middle;\n",
       "    }\n",
       "\n",
       "    .dataframe tbody tr th {\n",
       "        vertical-align: top;\n",
       "    }\n",
       "\n",
       "    .dataframe thead th {\n",
       "        text-align: right;\n",
       "    }\n",
       "</style>\n",
       "<table border=\"1\" class=\"dataframe\">\n",
       "  <thead>\n",
       "    <tr style=\"text-align: right;\">\n",
       "      <th></th>\n",
       "      <th>inchikey</th>\n",
       "      <th>smiles</th>\n",
       "      <th>group</th>\n",
       "      <th>activity</th>\n",
       "    </tr>\n",
       "  </thead>\n",
       "  <tbody>\n",
       "    <tr>\n",
       "      <th>0</th>\n",
       "      <td>FNHKPVJBJVTLMP-UHFFFAOYSA-N</td>\n",
       "      <td>CNC(=O)c1cc(Oc2ccc(NC(=O)Nc3ccc(Cl)c(C(F)(F)F)...</td>\n",
       "      <td>train</td>\n",
       "      <td>active</td>\n",
       "    </tr>\n",
       "    <tr>\n",
       "      <th>1</th>\n",
       "      <td>CUDVHEFYRIWYQD-UHFFFAOYSA-N</td>\n",
       "      <td>CNC(=O)c1cccc2cc(Oc3ccnc4cc(OCC5(N)CC5)c(OC)cc...</td>\n",
       "      <td>train</td>\n",
       "      <td>active</td>\n",
       "    </tr>\n",
       "    <tr>\n",
       "      <th>2</th>\n",
       "      <td>TTZSNFLLYPYKIL-UHFFFAOYSA-N</td>\n",
       "      <td>Cc1cc2cc(Oc3ccnc(Nc4cccc(CS(=O)(=O)NCCN(C)C)c4...</td>\n",
       "      <td>test</td>\n",
       "      <td>active</td>\n",
       "    </tr>\n",
       "    <tr>\n",
       "      <th>3</th>\n",
       "      <td>UOVCGJXDGOGOCZ-UHFFFAOYSA-N</td>\n",
       "      <td>COc1cc2c(cc1F)C(c1ccccc1Cl)=Nc1c(n[nH]c1C)N2</td>\n",
       "      <td>train</td>\n",
       "      <td>active</td>\n",
       "    </tr>\n",
       "    <tr>\n",
       "      <th>4</th>\n",
       "      <td>CUIHSIWYWATEQL-UHFFFAOYSA-N</td>\n",
       "      <td>Cc1ccc(Nc2nccc(N(C)c3ccc4c(C)n(C)nc4c3)n2)cc1S...</td>\n",
       "      <td>test</td>\n",
       "      <td>active</td>\n",
       "    </tr>\n",
       "    <tr>\n",
       "      <th>...</th>\n",
       "      <td>...</td>\n",
       "      <td>...</td>\n",
       "      <td>...</td>\n",
       "      <td>...</td>\n",
       "    </tr>\n",
       "    <tr>\n",
       "      <th>5525</th>\n",
       "      <td>UBAHPEHGSJRHGA-UHFFFAOYSA-N</td>\n",
       "      <td>Cc1cccc2nc(-c3ccc(-c4cccc(CN5CCC(C(N)=O)CC5)c4...</td>\n",
       "      <td>test</td>\n",
       "      <td>inactive</td>\n",
       "    </tr>\n",
       "    <tr>\n",
       "      <th>5526</th>\n",
       "      <td>RTTIKBHDHKOSNI-UHFFFAOYSA-N</td>\n",
       "      <td>Cc1c2ccccc2nc2c1c1cc(NCCN(C)C)ccc1n2CCN(C)C</td>\n",
       "      <td>test</td>\n",
       "      <td>inactive</td>\n",
       "    </tr>\n",
       "    <tr>\n",
       "      <th>5527</th>\n",
       "      <td>HVUOSZANYULBJR-UHFFFAOYSA-N</td>\n",
       "      <td>Cc1ccc(-c2ccn(-c3ccc4c5c(n(C)c4c3)CCCNC5)c(=O)...</td>\n",
       "      <td>test</td>\n",
       "      <td>inactive</td>\n",
       "    </tr>\n",
       "    <tr>\n",
       "      <th>5528</th>\n",
       "      <td>SNFWCJIVWUVRNO-UHFFFAOYSA-N</td>\n",
       "      <td>N#Cc1c(-c2ccccc2C(F)(F)F)nc(SCc2ccc(OC(F)(F)F)...</td>\n",
       "      <td>test</td>\n",
       "      <td>inactive</td>\n",
       "    </tr>\n",
       "    <tr>\n",
       "      <th>5529</th>\n",
       "      <td>MKSAGABLDNGEAP-DHIUTWEWSA-N</td>\n",
       "      <td>CCOP(=O)(OCC)[C@@H]1C[C@H](C(=O)Nc2cc3c4c(cccc...</td>\n",
       "      <td>test</td>\n",
       "      <td>inactive</td>\n",
       "    </tr>\n",
       "  </tbody>\n",
       "</table>\n",
       "<p>5530 rows × 4 columns</p>\n",
       "</div>"
      ],
      "text/plain": [
       "                         inchikey  \\\n",
       "0     FNHKPVJBJVTLMP-UHFFFAOYSA-N   \n",
       "1     CUDVHEFYRIWYQD-UHFFFAOYSA-N   \n",
       "2     TTZSNFLLYPYKIL-UHFFFAOYSA-N   \n",
       "3     UOVCGJXDGOGOCZ-UHFFFAOYSA-N   \n",
       "4     CUIHSIWYWATEQL-UHFFFAOYSA-N   \n",
       "...                           ...   \n",
       "5525  UBAHPEHGSJRHGA-UHFFFAOYSA-N   \n",
       "5526  RTTIKBHDHKOSNI-UHFFFAOYSA-N   \n",
       "5527  HVUOSZANYULBJR-UHFFFAOYSA-N   \n",
       "5528  SNFWCJIVWUVRNO-UHFFFAOYSA-N   \n",
       "5529  MKSAGABLDNGEAP-DHIUTWEWSA-N   \n",
       "\n",
       "                                                 smiles  group  activity  \n",
       "0     CNC(=O)c1cc(Oc2ccc(NC(=O)Nc3ccc(Cl)c(C(F)(F)F)...  train    active  \n",
       "1     CNC(=O)c1cccc2cc(Oc3ccnc4cc(OCC5(N)CC5)c(OC)cc...  train    active  \n",
       "2     Cc1cc2cc(Oc3ccnc(Nc4cccc(CS(=O)(=O)NCCN(C)C)c4...   test    active  \n",
       "3          COc1cc2c(cc1F)C(c1ccccc1Cl)=Nc1c(n[nH]c1C)N2  train    active  \n",
       "4     Cc1ccc(Nc2nccc(N(C)c3ccc4c(C)n(C)nc4c3)n2)cc1S...   test    active  \n",
       "...                                                 ...    ...       ...  \n",
       "5525  Cc1cccc2nc(-c3ccc(-c4cccc(CN5CCC(C(N)=O)CC5)c4...   test  inactive  \n",
       "5526        Cc1c2ccccc2nc2c1c1cc(NCCN(C)C)ccc1n2CCN(C)C   test  inactive  \n",
       "5527  Cc1ccc(-c2ccn(-c3ccc4c5c(n(C)c4c3)CCCNC5)c(=O)...   test  inactive  \n",
       "5528  N#Cc1c(-c2ccccc2C(F)(F)F)nc(SCc2ccc(OC(F)(F)F)...   test  inactive  \n",
       "5529  CCOP(=O)(OCC)[C@@H]1C[C@H](C(=O)Nc2cc3c4c(cccc...   test  inactive  \n",
       "\n",
       "[5530 rows x 4 columns]"
      ]
     },
     "execution_count": 31,
     "metadata": {},
     "output_type": "execute_result"
    }
   ],
   "source": [
    "df"
   ]
  },
  {
   "cell_type": "code",
   "execution_count": 32,
   "metadata": {},
   "outputs": [],
   "source": [
    "# with minimal modification, we obtain the fingerprint vector using RDKit\n",
    "\n",
    "def get_Xy(df):\n",
    "    X = np.vstack(df.mol.apply(lambda m: list(AllChem.GetMorganFingerprintAsBitVect(m, 4, nBits=2048))))\n",
    "    y = df.activity.eq('active').astype(float).to_numpy()\n",
    "    return X, y"
   ]
  },
  {
   "cell_type": "code",
   "execution_count": 34,
   "metadata": {},
   "outputs": [],
   "source": [
    "df['mol'] = df.smiles.apply(Chem.MolFromSmiles)"
   ]
  },
  {
   "cell_type": "code",
   "execution_count": 35,
   "metadata": {},
   "outputs": [],
   "source": [
    "X_train, y_train = get_Xy(df[df.group.eq('train')])\n",
    "X_test, y_test = get_Xy(df[df.group.eq('test')])"
   ]
  },
  {
   "cell_type": "markdown",
   "metadata": {},
   "source": [
    "### 관련 사이트 정리\n",
    "\n",
    "- [InCHI Trust](https://www.inchi-trust.org/downloads/)\n",
    "- [라인 표기법](https://chem.libretexts.org/Courses/Fordham_University/Chem1102%3A_Drug_Discovery_-_From_the_Laboratory_to_the_Clinic/05%3A_Organic_Molecules/5.08%3A_Line_Notation_(SMILES_and_InChI))\n",
    "- [InCHI key 정리 및 convert](http://inchi.info/inchikey_overview_en.html)\n",
    "- [smiles translator](https://www2.chemie.uni-erlangen.de/services/translate/)\n",
    "\n",
    "\n",
    "### 관련 단어 정리\n",
    "\n",
    "InChIkey = (IUPAC Chemical Identifier key), InCHI의 해시 버젼\n",
    "> ex) TTZSNFLLYPYKIL-UHFFFAOYSA-N\t\n",
    "    > 1. TTZSNFLLYPYKIL = main layer, 주층\n",
    "    > 2. UHFFFAOY = stereochemistry & isotopes, 입체화학 및 동위원소\n",
    "    > 3. SA = Version, 버젼\n",
    "    > 4. N = Protons, 양자\n",
    "\n",
    "\n",
    "SMILES = (Simplified Molecular-Input Line-Entry System), ASCII 문자열을 사용한 화확 구조 설명 줄 표기법\n",
    "> ex) C1CCCCC1  =\tCyclohexane (C6H12)\n",
    "\n",
    "group = 학습 데이터, 테스트 데이터\n",
    "\n",
    "activity = 활성상태"
   ]
  },
  {
   "cell_type": "code",
   "execution_count": 54,
   "metadata": {},
   "outputs": [
    {
     "data": {
      "text/plain": [
       "((3977, 2048), (1553, 2048))"
      ]
     },
     "execution_count": 54,
     "metadata": {},
     "output_type": "execute_result"
    }
   ],
   "source": [
    "X_train.shape, X_test.shape"
   ]
  },
  {
   "cell_type": "code",
   "execution_count": 55,
   "metadata": {},
   "outputs": [
    {
     "data": {
      "text/plain": [
       "((3977,), (1553,))"
      ]
     },
     "execution_count": 55,
     "metadata": {},
     "output_type": "execute_result"
    }
   ],
   "source": [
    "y_train.shape, y_test.shape"
   ]
  },
  {
   "cell_type": "code",
   "execution_count": 36,
   "metadata": {},
   "outputs": [],
   "source": [
    "# smiles 코드를 읽어서 분자 구조를 그리기\n",
    "from rdkit.Chem import Draw\n",
    "from rdkit.Chem.Draw import MolsToImage\n",
    "from rdkit.Chem.Draw import MolToFile"
   ]
  },
  {
   "cell_type": "code",
   "execution_count": 37,
   "metadata": {},
   "outputs": [],
   "source": [
    "mol = Chem.MolFromSmiles(df['smiles'][0])"
   ]
  },
  {
   "cell_type": "code",
   "execution_count": 39,
   "metadata": {},
   "outputs": [
    {
     "data": {
      "image/png": "[encoded data removed]",
      "text/plain": [
       "<PIL.Image.Image image mode=RGBA size=600x600>"
      ]
     },
     "execution_count": 39,
     "metadata": {},
     "output_type": "execute_result"
    }
   ],
   "source": [
    "MolsToImage(mols=[mol], subImgSize=(600, 600))"
   ]
  },
  {
   "cell_type": "code",
   "execution_count": 40,
   "metadata": {},
   "outputs": [
    {
     "data": {
      "text/plain": [
       "active          2704\n",
       "inactive        1886\n",
       "unknown          599\n",
       "intermediate     341\n",
       "Name: activity, dtype: int64"
      ]
     },
     "execution_count": 40,
     "metadata": {},
     "output_type": "execute_result"
    }
   ],
   "source": [
    "df['activity'].value_counts()"
   ]
  },
  {
   "cell_type": "code",
   "execution_count": 41,
   "metadata": {},
   "outputs": [
    {
     "data": {
      "text/plain": [
       "CNC(=O)c1cccc2cc(Oc3ccnc4cc(OCC5(N)CC5)c(OC)cc34)ccc12                          3\n",
       "COc1cc2nccc(Oc3ccc(NC(=O)NC4CC4)c(Cl)c3)c2cc1C(N)=O                             3\n",
       "CNC(=O)c1cc(Oc2ccc(NC(=O)Nc3ccc(Cl)c(C(F)(F)F)c3)c(F)c2)ccn1                    2\n",
       "Cc1cc2c(F)c(Oc3ncnn4cc(OC[C@@H](C)O)c(C)c34)ccc2[nH]1                           2\n",
       "CN1CCN(CC1)Cc2ccc(NC(=O)c3ccc(C)c(c3)C#Cc4cnc5cccnn45)cc2C(F)(F)F               2\n",
       "                                                                               ..\n",
       "Nc1ncc(-c2cccc(S(N)(=O)=O)c2)c2scc(-c3ccc(F)c(Cl)c3)c12                         1\n",
       "COc1cc2c(Nc3ccc(Cl)cc3F)ncnc2cc1OCCCN1CCOCC1                                    1\n",
       "Cc1cc(C(=O)Nc2cc(Oc3ccc4nc(NC(=O)C5CC5)nn4c3)ccc2F)n(C)n1                       1\n",
       "CNC(=O)CN1CCC(Oc2cc3c(Nc4cccc(Cl)c4F)ncnc3cc2OC)CC1                             1\n",
       "CCOP(=O)(OCC)[C@@H]1C[C@H](C(=O)Nc2cc3c4c(cccc4c2)C(=O)N(CCN2CCCC2)C3=O)ON1C    1\n",
       "Name: smiles, Length: 5507, dtype: int64"
      ]
     },
     "execution_count": 41,
     "metadata": {},
     "output_type": "execute_result"
    }
   ],
   "source": [
    "df['smiles'].value_counts()"
   ]
  },
  {
   "cell_type": "code",
   "execution_count": 81,
   "metadata": {},
   "outputs": [
    {
     "data": {
      "text/plain": [
       "active          2704\n",
       "inactive        1886\n",
       "unknown          599\n",
       "intermediate     341\n",
       "Name: activity, dtype: int64"
      ]
     },
     "execution_count": 81,
     "metadata": {},
     "output_type": "execute_result"
    }
   ],
   "source": [
    "df['activity'].value_counts()"
   ]
  },
  {
   "cell_type": "code",
   "execution_count": 87,
   "metadata": {},
   "outputs": [],
   "source": [
    "unknown_df = df[df['activity'] == 'unknown']"
   ]
  },
  {
   "cell_type": "code",
   "execution_count": 94,
   "metadata": {},
   "outputs": [
    {
     "data": {
      "image/png": "[encoded data removed]",
      "text/plain": [
       "<rdkit.Chem.rdchem.Mol at 0x7fe73894db20>"
      ]
     },
     "execution_count": 94,
     "metadata": {},
     "output_type": "execute_result"
    }
   ],
   "source": [
    "unknown_df['mol'][71]"
   ]
  },
  {
   "cell_type": "markdown",
   "metadata": {},
   "source": [
    "## MODEL"
   ]
  }
 ],
 "metadata": {
  "kernelspec": {
   "display_name": "Python 3.8.13 ('test')",
   "language": "python",
   "name": "python3"
  },
  "language_info": {
   "codemirror_mode": {
    "name": "ipython",
    "version": 3
   },
   "file_extension": ".py",
   "mimetype": "text/x-python",
   "name": "python",
   "nbconvert_exporter": "python",
   "pygments_lexer": "ipython3",
   "version": "3.8.13"
  },
  "orig_nbformat": 4,
  "vscode": {
   "interpreter": {
    "hash": "a8aac0b6a3e67f35bcd67088a857342b2a6b50e1135570ee0f841fb10732c056"
   }
  }
 },
 "nbformat": 4,
 "nbformat_minor": 2
}
